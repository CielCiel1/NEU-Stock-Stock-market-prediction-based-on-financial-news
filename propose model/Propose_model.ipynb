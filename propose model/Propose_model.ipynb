{
  "nbformat": 4,
  "nbformat_minor": 0,
  "metadata": {
    "accelerator": "GPU",
    "colab": {
      "name": "Propose_model",
      "provenance": [],
      "collapsed_sections": []
    },
    "kernelspec": {
      "display_name": "Python 3",
      "name": "python3"
    },
    "language_info": {
      "name": "python"
    }
  },
  "cells": [
    {
      "cell_type": "code",
      "metadata": {
        "id": "cLdy7uOubzZQ"
      },
      "source": [
        "import math\n",
        "import warnings\n",
        "import datetime \n",
        "import numpy as np\n",
        "import pandas as pd\n",
        "import matplotlib.pyplot as plt\n",
        "import tensorflow as tf\n",
        "import keras\n",
        "from tensorflow.keras import Sequential\n",
        "from pandas_datareader import DataReader\n",
        "from sklearn.preprocessing import MinMaxScaler\n",
        "from sklearn.metrics import mean_squared_error\n",
        "import keras.backend as K\n",
        "from sklearn import metrics\n",
        "from keras.callbacks import EarlyStopping\n",
        "from keras.callbacks import ModelCheckpoint,ReduceLROnPlateau\n",
        "from keras.models import load_model\n",
        "from sklearn.metrics import r2_score\n",
        "from tensorflow.keras.layers import Dense, LSTM\n",
        "from tensorflow.keras.layers import Dense, Lambda, Dot, Activation, Concatenate\n",
        "from tensorflow.keras.layers import Layer\n",
        "from tensorflow.keras.models import Model\n",
        "from tensorflow.keras import Input\n",
        "from keras.layers import Dropout\n",
        "warnings.filterwarnings(\"ignore\")"
      ],
      "execution_count": 681,
      "outputs": []
    },
    {
      "cell_type": "code",
      "metadata": {
        "id": "lVBNv3qHk2Pe"
      },
      "source": [
        "def get_model():\n",
        "\n",
        "  model_input = Input(shape=(x_train.shape[1], 2))\n",
        "  x = LSTM(160, return_sequences=True)(model_input)\n",
        "  # x = Dropout(0.2)(x)\n",
        "  score_first_part = Dense(160, use_bias=False)(x)\n",
        "  h_t = Lambda(lambda x: x[:, -1, :], output_shape=(160,))(x)\n",
        "  score = Dot(axes=[1, 2])([h_t, score_first_part])\n",
        "  attention_weights = Activation('softmax')(score)\n",
        "  context_vector = Dot(axes=[1, 1])([x, attention_weights])\n",
        "  pre_activation = Concatenate()([context_vector, h_t])\n",
        "  attention_vector = Dense(128, use_bias=False, activation='tanh')(pre_activation)\n",
        "  x = keras.layers.Reshape((1,128))(attention_vector)\n",
        "\n",
        "  x = LSTM(256,return_sequences=False)(x)\n",
        "  x = Dense(96)(attention_vector)\n",
        "  model_ouput = Dense(1)(x)\n",
        "  model = Model(model_input, model_ouput)\n",
        "\n",
        "  model.compile(optimizer='adam', loss='mean_squared_error', metrics=['mae'])\n",
        "  es = EarlyStopping(monitor='val_mae', mode='min', verbose=1, patience=10)\n",
        "  mc = ModelCheckpoint('check.h5', monitor='val_mae', mode='min', verbose=1, save_best_only=True)\n",
        "\n",
        "  return model , es, mc"
      ],
      "execution_count": 682,
      "outputs": []
    },
    {
      "cell_type": "code",
      "metadata": {
        "id": "OmM2dDP2b4DL"
      },
      "source": [
        "def mape(Close_prices, pred_prices):\n",
        "    real = np.array(Close_prices)\n",
        "    predict =  np.array(pred_prices)\n",
        "    return np.mean(np.abs((real-predict)/real))*100\n",
        "\n",
        "def get_min_max(data_train,col):\n",
        "  min = data_train.min(axis =0)[col]\n",
        "  max = data_train.max(axis =0)[col]\n",
        "  return min, max\n",
        "\n",
        "def scale(data_scale, data_train, col):\n",
        "  min, max = get_min_max(data_train,col)\n",
        "  output = (data_scale-min)/(max-min)\n",
        "  return output\n",
        "\n",
        "def inv_scale(data_scale, data_train, col):\n",
        "  min, max = get_min_max(data_train,col)\n",
        "  output = data_scale*(max-min)+min\n",
        "  return output\n",
        "\n",
        "def fit_scale(data_scale0, data_train, col):\n",
        "   output = np.transpose(np.array([data_scale0.apply(lambda data_scale0: scale(data_scale0, data_train, col))]))\n",
        "   return output\n",
        "\n",
        "def get_prediction(x_test, data_train, col):\n",
        "  predictions = model.predict(x_test)\n",
        "  predict_data = inv_scale(predictions,data_train,col)\n",
        "  return predict_data\n",
        "\n",
        "def get_real(data_test, predict_data):\n",
        "  real = data_test[day:]\n",
        "  real['Predictions'] = predict_data\n",
        "  return real\n",
        "\n",
        "def predict_next_day(dataset, data_train,col):\n",
        "  last = dataset[-day:]\n",
        "  last_scaled = getcheck(last,data_train,col)\n",
        "  test = []\n",
        "  test.append(last_scaled)\n",
        "  test = np.array(test)\n",
        "  test = np.reshape(test, (test.shape[0], test.shape[1],2))\n",
        "  pred = model.predict(test)\n",
        "  pred = inv_scale(pred,data_train,col)\n",
        "  return pred[0][0]\n",
        "\n",
        "def Result(real):\n",
        "  Close_prices = real.Price.tolist()\n",
        "  pred_prices = real.Predictions.tolist()\n",
        "  mse_v = mean_squared_error(Close_prices, pred_prices)\n",
        "  rmse_v = math.sqrt(mse_v)\n",
        "  r2 = r2_score(Close_prices, pred_prices)\n",
        "  mape_v =mape(Close_prices, pred_prices)\n",
        "  result = {'MAPE':round(mape_v,3),'RMSE': round(rmse_v,3),'MSE': round(mse_v,3), ' R^2':round(r2,3)}\n",
        "  return result\n",
        "\n",
        "def getcheck(price,data_train,col):\n",
        "  scaled_data_train = fit_scale(price['Price'], data_train, col)\n",
        "  std = np.std(fit_scale(data_train['Price'], data_train, col))\n",
        "  data = (price['Check4'].to_numpy().reshape(-1,1)-np.ones(scaled_data_train.shape)*np.mean(scaled_data_train))/std\n",
        "  data = (data-data.min())/(data.max()-data.min())\n",
        "  data_std =  np.append(scaled_data_train,data.reshape(-1,1),axis=1)\n",
        "  return data_std"
      ],
      "execution_count": 683,
      "outputs": []
    },
    {
      "cell_type": "code",
      "metadata": {
        "id": "vpoNTK6Nb7bm"
      },
      "source": [
        "day = 45\n",
        "df = pd.read_excel('/content/new.xlsx')\n",
        "data = df \n",
        "train_data_len = 1600\n",
        "dataset = data[['Price','Check4']]\n",
        "data_train = dataset[:train_data_len]\n",
        "data_test = dataset[(train_data_len-day):1800]"
      ],
      "execution_count": 684,
      "outputs": []
    },
    {
      "cell_type": "markdown",
      "metadata": {
        "id": "0ewcfZ14dHkQ"
      },
      "source": [
        "Scale"
      ]
    },
    {
      "cell_type": "code",
      "metadata": {
        "id": "X62mDqmkchOv"
      },
      "source": [
        "scaled_data_train = getcheck(data_train, data_train, 0)\n",
        "scaled_data_test =  getcheck(data_test, data_train, 0)"
      ],
      "execution_count": 685,
      "outputs": []
    },
    {
      "cell_type": "markdown",
      "metadata": {
        "id": "LmSzXLuGfHJY"
      },
      "source": [
        "Data Train"
      ]
    },
    {
      "cell_type": "code",
      "metadata": {
        "id": "JBjOg8NJdarN"
      },
      "source": [
        "x_train=[]\n",
        "y_train=[]\n",
        "for i in range(day,train_data_len):\n",
        "  x_train.append(scaled_data_train[i-day:i])\n",
        "  y_train.append(scaled_data_train[i, 0])\n",
        "\n",
        "x_train, y_train = np.array(x_train), np.array(y_train)\n",
        "x_train = np.reshape(x_train, (x_train.shape[0], x_train.shape[1], 2))"
      ],
      "execution_count": 686,
      "outputs": []
    },
    {
      "cell_type": "markdown",
      "metadata": {
        "id": "r5_WrxvYh6E9"
      },
      "source": [
        "Data Test"
      ]
    },
    {
      "cell_type": "code",
      "metadata": {
        "id": "89unL3flgSR9"
      },
      "source": [
        "test_data = scaled_data_test\n",
        "x_test = []\n",
        "y_test = scaled_data_test[day:,:]\n",
        "for i in range(day,len(test_data)):\n",
        "  x_test.append(test_data[i-day:i])\n",
        "\n",
        "\n",
        "x_test = np.array(x_test)\n",
        "x_test = np.reshape(x_test, (x_test.shape[0], x_test.shape[1], 2))"
      ],
      "execution_count": 687,
      "outputs": []
    },
    {
      "cell_type": "markdown",
      "metadata": {
        "id": "R9xQ9c_FiAYW"
      },
      "source": [
        "Model"
      ]
    },
    {
      "cell_type": "code",
      "metadata": {
        "id": "UC4H1d36di4k",
        "colab": {
          "base_uri": "https://localhost:8080/"
        },
        "outputId": "7112d3df-a4d6-4970-faf5-6b76dda2285d"
      },
      "source": [
        "model, es, mc = get_model()\n",
        "H = model.fit(x_train, y_train, batch_size=32, epochs=300, validation_data=(x_test,y_test), verbose= 1, callbacks=[es,mc]) #, callbacks=[es,mc]"
      ],
      "execution_count": 688,
      "outputs": [
        {
          "output_type": "stream",
          "text": [
            "Epoch 1/300\n",
            "48/48 [==============================] - 2s 15ms/step - loss: 0.0089 - mae: 0.0582 - val_loss: 0.0282 - val_mae: 0.0995\n",
            "\n",
            "Epoch 00001: val_mae improved from inf to 0.09946, saving model to check.h5\n",
            "Epoch 2/300\n",
            "48/48 [==============================] - 0s 7ms/step - loss: 0.0021 - mae: 0.0302 - val_loss: 0.0286 - val_mae: 0.0969\n",
            "\n",
            "Epoch 00002: val_mae improved from 0.09946 to 0.09693, saving model to check.h5\n",
            "Epoch 3/300\n",
            "48/48 [==============================] - 0s 7ms/step - loss: 0.0018 - mae: 0.0279 - val_loss: 0.0286 - val_mae: 0.0962\n",
            "\n",
            "Epoch 00003: val_mae improved from 0.09693 to 0.09620, saving model to check.h5\n",
            "Epoch 4/300\n",
            "48/48 [==============================] - 0s 7ms/step - loss: 0.0018 - mae: 0.0287 - val_loss: 0.0292 - val_mae: 0.1002\n",
            "\n",
            "Epoch 00004: val_mae did not improve from 0.09620\n",
            "Epoch 5/300\n",
            "48/48 [==============================] - 0s 6ms/step - loss: 0.0016 - mae: 0.0271 - val_loss: 0.0284 - val_mae: 0.0944\n",
            "\n",
            "Epoch 00005: val_mae improved from 0.09620 to 0.09442, saving model to check.h5\n",
            "Epoch 6/300\n",
            "48/48 [==============================] - 0s 7ms/step - loss: 0.0017 - mae: 0.0284 - val_loss: 0.0284 - val_mae: 0.0953\n",
            "\n",
            "Epoch 00006: val_mae did not improve from 0.09442\n",
            "Epoch 7/300\n",
            "48/48 [==============================] - 0s 7ms/step - loss: 0.0013 - mae: 0.0236 - val_loss: 0.0283 - val_mae: 0.0934\n",
            "\n",
            "Epoch 00007: val_mae improved from 0.09442 to 0.09339, saving model to check.h5\n",
            "Epoch 8/300\n",
            "48/48 [==============================] - 0s 7ms/step - loss: 0.0012 - mae: 0.0218 - val_loss: 0.0301 - val_mae: 0.1015\n",
            "\n",
            "Epoch 00008: val_mae did not improve from 0.09339\n",
            "Epoch 9/300\n",
            "48/48 [==============================] - 0s 7ms/step - loss: 0.0012 - mae: 0.0216 - val_loss: 0.0287 - val_mae: 0.0941\n",
            "\n",
            "Epoch 00009: val_mae did not improve from 0.09339\n",
            "Epoch 10/300\n",
            "48/48 [==============================] - 0s 7ms/step - loss: 0.0011 - mae: 0.0208 - val_loss: 0.0283 - val_mae: 0.0934\n",
            "\n",
            "Epoch 00010: val_mae improved from 0.09339 to 0.09338, saving model to check.h5\n",
            "Epoch 11/300\n",
            "48/48 [==============================] - 0s 7ms/step - loss: 0.0011 - mae: 0.0211 - val_loss: 0.0287 - val_mae: 0.0941\n",
            "\n",
            "Epoch 00011: val_mae did not improve from 0.09338\n",
            "Epoch 12/300\n",
            "48/48 [==============================] - 0s 7ms/step - loss: 0.0012 - mae: 0.0221 - val_loss: 0.0282 - val_mae: 0.0934\n",
            "\n",
            "Epoch 00012: val_mae did not improve from 0.09338\n",
            "Epoch 13/300\n",
            "48/48 [==============================] - 0s 7ms/step - loss: 0.0011 - mae: 0.0202 - val_loss: 0.0283 - val_mae: 0.0939\n",
            "\n",
            "Epoch 00013: val_mae did not improve from 0.09338\n",
            "Epoch 14/300\n",
            "48/48 [==============================] - 0s 7ms/step - loss: 0.0011 - mae: 0.0214 - val_loss: 0.0279 - val_mae: 0.0924\n",
            "\n",
            "Epoch 00014: val_mae improved from 0.09338 to 0.09244, saving model to check.h5\n",
            "Epoch 15/300\n",
            "48/48 [==============================] - 0s 7ms/step - loss: 0.0012 - mae: 0.0217 - val_loss: 0.0294 - val_mae: 0.0972\n",
            "\n",
            "Epoch 00015: val_mae did not improve from 0.09244\n",
            "Epoch 16/300\n",
            "48/48 [==============================] - 0s 7ms/step - loss: 0.0013 - mae: 0.0241 - val_loss: 0.0293 - val_mae: 0.0989\n",
            "\n",
            "Epoch 00016: val_mae did not improve from 0.09244\n",
            "Epoch 17/300\n",
            "48/48 [==============================] - 0s 7ms/step - loss: 0.0011 - mae: 0.0209 - val_loss: 0.0284 - val_mae: 0.0934\n",
            "\n",
            "Epoch 00017: val_mae did not improve from 0.09244\n",
            "Epoch 18/300\n",
            "48/48 [==============================] - 0s 7ms/step - loss: 0.0010 - mae: 0.0204 - val_loss: 0.0292 - val_mae: 0.0961\n",
            "\n",
            "Epoch 00018: val_mae did not improve from 0.09244\n",
            "Epoch 19/300\n",
            "48/48 [==============================] - 0s 8ms/step - loss: 0.0012 - mae: 0.0234 - val_loss: 0.0276 - val_mae: 0.0938\n",
            "\n",
            "Epoch 00019: val_mae did not improve from 0.09244\n",
            "Epoch 20/300\n",
            "48/48 [==============================] - 0s 7ms/step - loss: 0.0011 - mae: 0.0211 - val_loss: 0.0293 - val_mae: 0.0957\n",
            "\n",
            "Epoch 00020: val_mae did not improve from 0.09244\n",
            "Epoch 21/300\n",
            "48/48 [==============================] - 0s 7ms/step - loss: 0.0012 - mae: 0.0220 - val_loss: 0.0305 - val_mae: 0.1024\n",
            "\n",
            "Epoch 00021: val_mae did not improve from 0.09244\n",
            "Epoch 22/300\n",
            "48/48 [==============================] - 0s 7ms/step - loss: 9.7863e-04 - mae: 0.0194 - val_loss: 0.0279 - val_mae: 0.0917\n",
            "\n",
            "Epoch 00022: val_mae improved from 0.09244 to 0.09175, saving model to check.h5\n",
            "Epoch 23/300\n",
            "48/48 [==============================] - 0s 7ms/step - loss: 0.0011 - mae: 0.0206 - val_loss: 0.0279 - val_mae: 0.0920\n",
            "\n",
            "Epoch 00023: val_mae did not improve from 0.09175\n",
            "Epoch 24/300\n",
            "48/48 [==============================] - 0s 7ms/step - loss: 0.0010 - mae: 0.0198 - val_loss: 0.0293 - val_mae: 0.0970\n",
            "\n",
            "Epoch 00024: val_mae did not improve from 0.09175\n",
            "Epoch 25/300\n",
            "48/48 [==============================] - 0s 7ms/step - loss: 0.0011 - mae: 0.0208 - val_loss: 0.0281 - val_mae: 0.0941\n",
            "\n",
            "Epoch 00025: val_mae did not improve from 0.09175\n",
            "Epoch 26/300\n",
            "48/48 [==============================] - 0s 7ms/step - loss: 0.0011 - mae: 0.0201 - val_loss: 0.0314 - val_mae: 0.1096\n",
            "\n",
            "Epoch 00026: val_mae did not improve from 0.09175\n",
            "Epoch 27/300\n",
            "48/48 [==============================] - 0s 7ms/step - loss: 0.0010 - mae: 0.0201 - val_loss: 0.0282 - val_mae: 0.0924\n",
            "\n",
            "Epoch 00027: val_mae did not improve from 0.09175\n",
            "Epoch 28/300\n",
            "48/48 [==============================] - 0s 7ms/step - loss: 0.0010 - mae: 0.0201 - val_loss: 0.0280 - val_mae: 0.0924\n",
            "\n",
            "Epoch 00028: val_mae did not improve from 0.09175\n",
            "Epoch 29/300\n",
            "48/48 [==============================] - 0s 7ms/step - loss: 0.0012 - mae: 0.0242 - val_loss: 0.0283 - val_mae: 0.0955\n",
            "\n",
            "Epoch 00029: val_mae did not improve from 0.09175\n",
            "Epoch 30/300\n",
            "48/48 [==============================] - 0s 7ms/step - loss: 0.0011 - mae: 0.0217 - val_loss: 0.0304 - val_mae: 0.1012\n",
            "\n",
            "Epoch 00030: val_mae did not improve from 0.09175\n",
            "Epoch 31/300\n",
            "48/48 [==============================] - 0s 7ms/step - loss: 0.0011 - mae: 0.0208 - val_loss: 0.0283 - val_mae: 0.0926\n",
            "\n",
            "Epoch 00031: val_mae did not improve from 0.09175\n",
            "Epoch 32/300\n",
            "48/48 [==============================] - 0s 7ms/step - loss: 0.0010 - mae: 0.0199 - val_loss: 0.0292 - val_mae: 0.0953\n",
            "\n",
            "Epoch 00032: val_mae did not improve from 0.09175\n",
            "Epoch 00032: early stopping\n"
          ],
          "name": "stdout"
        }
      ]
    },
    {
      "cell_type": "code",
      "metadata": {
        "colab": {
          "base_uri": "https://localhost:8080/"
        },
        "id": "2_xpDxYyiZWn",
        "outputId": "e92a40f1-6502-42a3-dcc5-bf9c10555e22"
      },
      "source": [
        "model.summary()"
      ],
      "execution_count": 690,
      "outputs": [
        {
          "output_type": "stream",
          "text": [
            "Model: \"model_33\"\n",
            "__________________________________________________________________________________________________\n",
            "Layer (type)                    Output Shape         Param #     Connected to                     \n",
            "==================================================================================================\n",
            "input_34 (InputLayer)           [(None, 45, 2)]      0                                            \n",
            "__________________________________________________________________________________________________\n",
            "lstm_66 (LSTM)                  (None, 45, 160)      104320      input_34[0][0]                   \n",
            "__________________________________________________________________________________________________\n",
            "lambda_33 (Lambda)              (None, 160)          0           lstm_66[0][0]                    \n",
            "__________________________________________________________________________________________________\n",
            "dense_132 (Dense)               (None, 45, 160)      25600       lstm_66[0][0]                    \n",
            "__________________________________________________________________________________________________\n",
            "dot_66 (Dot)                    (None, 45)           0           lambda_33[0][0]                  \n",
            "                                                                 dense_132[0][0]                  \n",
            "__________________________________________________________________________________________________\n",
            "activation_33 (Activation)      (None, 45)           0           dot_66[0][0]                     \n",
            "__________________________________________________________________________________________________\n",
            "dot_67 (Dot)                    (None, 160)          0           lstm_66[0][0]                    \n",
            "                                                                 activation_33[0][0]              \n",
            "__________________________________________________________________________________________________\n",
            "concatenate_33 (Concatenate)    (None, 320)          0           dot_67[0][0]                     \n",
            "                                                                 lambda_33[0][0]                  \n",
            "__________________________________________________________________________________________________\n",
            "dense_133 (Dense)               (None, 128)          40960       concatenate_33[0][0]             \n",
            "__________________________________________________________________________________________________\n",
            "dense_134 (Dense)               (None, 96)           12384       dense_133[0][0]                  \n",
            "__________________________________________________________________________________________________\n",
            "dense_135 (Dense)               (None, 1)            97          dense_134[0][0]                  \n",
            "==================================================================================================\n",
            "Total params: 183,361\n",
            "Trainable params: 183,361\n",
            "Non-trainable params: 0\n",
            "__________________________________________________________________________________________________\n"
          ],
          "name": "stdout"
        }
      ]
    },
    {
      "cell_type": "code",
      "metadata": {
        "id": "3tUTiajFutjm"
      },
      "source": [
        "model = keras.models.load_model(\"check.h5\")"
      ],
      "execution_count": 691,
      "outputs": []
    },
    {
      "cell_type": "markdown",
      "metadata": {
        "id": "billwOw_ON5Q"
      },
      "source": [
        "Predict"
      ]
    },
    {
      "cell_type": "code",
      "metadata": {
        "id": "wQcFweMoNuTG"
      },
      "source": [
        "predict_data0 = get_prediction(x_test,data_train,0)"
      ],
      "execution_count": 692,
      "outputs": []
    },
    {
      "cell_type": "markdown",
      "metadata": {
        "id": "Omfdv_uwOdrL"
      },
      "source": [
        "Plot"
      ]
    },
    {
      "cell_type": "code",
      "metadata": {
        "id": "uCOrJUYwOgaE"
      },
      "source": [
        "train = dataset[:train_data_len+day]\n",
        "\n",
        "real0 = get_real(data_test, predict_data0)"
      ],
      "execution_count": 693,
      "outputs": []
    },
    {
      "cell_type": "code",
      "metadata": {
        "colab": {
          "base_uri": "https://localhost:8080/",
          "height": 339
        },
        "id": "4l8YRMS8OrSm",
        "outputId": "bcef0ea6-4bdd-4186-9421-ead8c1a93c65"
      },
      "source": [
        "plt.figure(figsize=(10,5))\n",
        "plt.subplot(2,1,1)\n",
        "# plt.xlabel('Date', fontsize=16)\n",
        "plt.ylabel('Price', fontsize=16)\n",
        "plt.plot(train['Price'])\n",
        "plt.plot(real0[['Price','Predictions']])\n",
        "plt.legend(['Train','Real','Prediction'],loc='best')\n",
        "\n",
        "plt.subplot(2,1,2)\n",
        "plt.xlabel('Date', fontsize=16)\n",
        "plt.ylabel('Price', fontsize=16)\n",
        "plt.plot(real0[['Price','Predictions']])\n",
        "plt.legend(['Real','Prediction'],loc='best')\n",
        "plt.show()"
      ],
      "execution_count": 694,
      "outputs": [
        {
          "output_type": "display_data",
          "data": {
            "image/png": "[encoded data removed]",
            "text/plain": [
              "<Figure size 720x360 with 2 Axes>"
            ]
          },
          "metadata": {
            "tags": [],
            "needs_background": "light"
          }
        }
      ]
    },
    {
      "cell_type": "code",
      "metadata": {
        "colab": {
          "base_uri": "https://localhost:8080/"
        },
        "id": "Aa70nQckoCnx",
        "outputId": "42976228-b736-463d-86ca-3b0bf7077bf9"
      },
      "source": [
        "R = Result(real0)\n",
        "print('Model test: ',R)"
      ],
      "execution_count": 702,
      "outputs": [
        {
          "output_type": "stream",
          "text": [
            "Model test:  {'MAPE': 1.338, 'RMSE': 730.754, 'MSE': 534001.4085, ' R^2': 0.933}\n"
          ],
          "name": "stdout"
        }
      ]
    },
    {
      "cell_type": "markdown",
      "metadata": {
        "id": "5rqQ1SRiVlUq"
      },
      "source": [
        "Next_day"
      ]
    },
    {
      "cell_type": "code",
      "metadata": {
        "colab": {
          "base_uri": "https://localhost:8080/"
        },
        "id": "iOE9u1hll_iT",
        "outputId": "0cfb3d15-f8ef-4b72-94be-4dd87a12a357"
      },
      "source": [
        "pre = predict_next_day(data_test, data_train, 0)\n",
        "print('Next day:',pre)\n"
      ],
      "execution_count": 696,
      "outputs": [
        {
          "output_type": "stream",
          "text": [
            "Next day: 43293.06\n"
          ],
          "name": "stdout"
        }
      ]
    },
    {
      "cell_type": "markdown",
      "metadata": {
        "id": "L6di4OPqetaj"
      },
      "source": [
        "#Train error"
      ]
    },
    {
      "cell_type": "code",
      "metadata": {
        "id": "eexxsHy0Xq5-"
      },
      "source": [
        "predict = get_prediction(x_train,data_train,0)"
      ],
      "execution_count": 697,
      "outputs": []
    },
    {
      "cell_type": "code",
      "metadata": {
        "id": "FakvUIAMUxGh"
      },
      "source": [
        "real_train = get_real(data_train, predict)"
      ],
      "execution_count": 698,
      "outputs": []
    },
    {
      "cell_type": "code",
      "metadata": {
        "colab": {
          "base_uri": "https://localhost:8080/"
        },
        "id": "23ggDC06VUV2",
        "outputId": "c36645b8-6341-4916-f4a0-c4ab8e58b3f3"
      },
      "source": [
        "R = Result(real_train)\n",
        "print('Model train: ',R)"
      ],
      "execution_count": 699,
      "outputs": [
        {
          "output_type": "stream",
          "text": [
            "Model train:  {'MAPE': 1.208, 'RMSE': 700.151, 'MSE': 490211.78, ' R^2': 0.975}\n"
          ],
          "name": "stdout"
        }
      ]
    },
    {
      "cell_type": "code",
      "metadata": {
        "id": "1J51o-59u0rs"
      },
      "source": [
        ""
      ],
      "execution_count": 699,
      "outputs": []
    }
  ]
}