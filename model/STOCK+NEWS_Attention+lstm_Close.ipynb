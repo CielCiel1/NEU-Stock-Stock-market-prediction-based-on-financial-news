{
  "nbformat": 4,
  "nbformat_minor": 0,
  "metadata": {
    "colab": {
      "name": "Bản sao của STOCK+NEWS_Attention+lstm_Close.ipynb",
      "provenance": [],
      "collapsed_sections": []
    },
    "kernelspec": {
      "display_name": "Python 3",
      "name": "python3"
    },
    "language_info": {
      "name": "python"
    },
    "accelerator": "GPU"
  },
  "cells": [
    {
      "cell_type": "code",
      "metadata": {
        "id": "cLdy7uOubzZQ"
      },
      "source": [
        "import math\n",
        "import warnings\n",
        "import datetime \n",
        "import numpy as np\n",
        "import pandas as pd\n",
        "import matplotlib.pyplot as plt\n",
        "import tensorflow as tf\n",
        "import keras\n",
        "from tensorflow.keras import Sequential\n",
        "from pandas_datareader import DataReader\n",
        "from sklearn.preprocessing import MinMaxScaler\n",
        "from sklearn.metrics import mean_squared_error\n",
        "import keras.backend as K\n",
        "from sklearn import metrics\n",
        "from keras.callbacks import EarlyStopping\n",
        "from keras.callbacks import ModelCheckpoint,ReduceLROnPlateau\n",
        "from keras.models import load_model\n",
        "from sklearn.metrics import r2_score\n",
        "from tensorflow.keras.layers import Dense, LSTM\n",
        "from tensorflow.keras.layers import Dense, Lambda, Dot, Activation, Concatenate\n",
        "from tensorflow.keras.layers import Layer\n",
        "from tensorflow.keras.models import Model\n",
        "from tensorflow.keras import Input\n",
        "from keras.layers import Dropout\n",
        "warnings.filterwarnings(\"ignore\")"
      ],
      "execution_count": 22,
      "outputs": []
    },
    {
      "cell_type": "code",
      "metadata": {
        "id": "lVBNv3qHk2Pe"
      },
      "source": [
        "def get_model():\n",
        "\n",
        "  model_input = Input(shape=(x_train.shape[1], 2))\n",
        "  x = LSTM(160, return_sequences=True)(model_input)\n",
        "  # x = Dropout(0.2)(x)\n",
        "  score_first_part = Dense(160, use_bias=False)(x)\n",
        "  h_t = Lambda(lambda x: x[:, -1, :], output_shape=(160,))(x)\n",
        "  score = Dot(axes=[1, 2])([h_t, score_first_part])\n",
        "  attention_weights = Activation('softmax')(score)\n",
        "  context_vector = Dot(axes=[1, 1])([x, attention_weights])\n",
        "  pre_activation = Concatenate()([context_vector, h_t])\n",
        "  attention_vector = Dense(128, use_bias=False, activation='tanh')(pre_activation)\n",
        "  x = keras.layers.Reshape((1,128))(attention_vector)\n",
        "\n",
        "  x = LSTM(256,return_sequences=False)(x)\n",
        "  x = Dense(96)(attention_vector)\n",
        "  model_ouput = Dense(1)(x)\n",
        "  model = Model(model_input, model_ouput)\n",
        "\n",
        "  model.compile(optimizer='adam', loss='mean_squared_error', metrics=['mae'])\n",
        "  es = EarlyStopping(monitor='val_mae', mode='min', verbose=1, patience=10)\n",
        "  mc = ModelCheckpoint('check.h5', monitor='val_mae', mode='min', verbose=1, save_best_only=True)\n",
        "\n",
        "  return model , es, mc"
      ],
      "execution_count": 23,
      "outputs": []
    },
    {
      "cell_type": "code",
      "metadata": {
        "id": "OmM2dDP2b4DL"
      },
      "source": [
        "def mape(Close_prices, pred_prices):\n",
        "    real = np.array(Close_prices)\n",
        "    predict =  np.array(pred_prices)\n",
        "    return np.mean(np.abs((real-predict)/real))*100\n",
        "\n",
        "def get_min_max(data_train,col):\n",
        "  min = data_train.min(axis =0)[col]\n",
        "  max = data_train.max(axis =0)[col]\n",
        "  return min, max\n",
        "\n",
        "def scale(data_scale, data_train, col):\n",
        "  min, max = get_min_max(data_train,col)\n",
        "  output = (data_scale-min)/(max-min)\n",
        "  return output\n",
        "\n",
        "def inv_scale(data_scale, data_train, col):\n",
        "  min, max = get_min_max(data_train,col)\n",
        "  output = data_scale*(max-min)+min\n",
        "  return output\n",
        "\n",
        "def fit_scale(data_scale0, data_train, col):\n",
        "   output = np.transpose(np.array([data_scale0.apply(lambda data_scale0: scale(data_scale0, data_train, col))]))\n",
        "   return output\n",
        "\n",
        "def get_prediction(x_test, data_train, col):\n",
        "  predictions = model.predict(x_test)\n",
        "  predict_data = inv_scale(predictions,data_train,col)\n",
        "  return predict_data\n",
        "\n",
        "def get_real(data_test, predict_data):\n",
        "  real = data_test[day:]\n",
        "  real['Predictions'] = predict_data\n",
        "  return real\n",
        "\n",
        "def predict_next_day(dataset, data_train,col):\n",
        "  last = dataset[-day:]\n",
        "  last_scaled = getcheck(last,data_train,col)\n",
        "  test = []\n",
        "  test.append(last_scaled)\n",
        "  test = np.array(test)\n",
        "  test = np.reshape(test, (test.shape[0], test.shape[1],2))\n",
        "  pred = model.predict(test)\n",
        "  pred = inv_scale(pred,data_train,col)\n",
        "  return pred[0][0]\n",
        "\n",
        "def Result(real):\n",
        "  Close_prices = real.Price.tolist()\n",
        "  pred_prices = real.Predictions.tolist()\n",
        "  mse_v = mean_squared_error(Close_prices, pred_prices)\n",
        "  rmse_v = math.sqrt(mse_v)\n",
        "  r2 = r2_score(Close_prices, pred_prices)\n",
        "  mape_v =mape(Close_prices, pred_prices)\n",
        "  result = {'MAPE':round(mape_v,3),'RMSE': round(rmse_v,3),'MSE': round(mse_v,3), ' R^2':round(r2,3)}\n",
        "  return result\n",
        "\n",
        "def getcheck(price,data_train,col):\n",
        "  scaled_data_train = fit_scale(price['Price'], data_train, col)\n",
        "  std = np.std(fit_scale(data_train['Price'], data_train, col))\n",
        "  data = (price['Check4'].to_numpy().reshape(-1,1)*std)\n",
        "  data = (data-data.min())/(data.max()-data.min())\n",
        "  data_std =  np.append(scaled_data_train,data.reshape(-1,1),axis=1)\n",
        "  return data_std"
      ],
      "execution_count": 24,
      "outputs": []
    },
    {
      "cell_type": "code",
      "metadata": {
        "id": "vpoNTK6Nb7bm"
      },
      "source": [
        "day = 45\n",
        "df = pd.read_excel('/content/new.xlsx')\n",
        "data = df \n",
        "train_data_len = int(0.8 * data.shape[0])\n",
        "dataset = data[['Price','Check4']]\n",
        "data_train = dataset[:train_data_len]\n",
        "data_test = dataset[(train_data_len-day):1800]"
      ],
      "execution_count": 25,
      "outputs": []
    },
    {
      "cell_type": "markdown",
      "metadata": {
        "id": "0ewcfZ14dHkQ"
      },
      "source": [
        "Scale"
      ]
    },
    {
      "cell_type": "code",
      "metadata": {
        "id": "X62mDqmkchOv"
      },
      "source": [
        "scaled_data_train = getcheck(data_train, data_train, 0)\n",
        "scaled_data_test =  getcheck(data_test, data_train, 0)"
      ],
      "execution_count": 26,
      "outputs": []
    },
    {
      "cell_type": "markdown",
      "metadata": {
        "id": "LmSzXLuGfHJY"
      },
      "source": [
        "Data Train"
      ]
    },
    {
      "cell_type": "code",
      "metadata": {
        "id": "JBjOg8NJdarN"
      },
      "source": [
        "x_train=[]\n",
        "y_train=[]\n",
        "for i in range(day,train_data_len):\n",
        "  x_train.append(scaled_data_train[i-day:i])\n",
        "  y_train.append(scaled_data_train[i, 0])\n",
        "\n",
        "x_train, y_train = np.array(x_train), np.array(y_train)\n",
        "x_train = np.reshape(x_train, (x_train.shape[0], x_train.shape[1], 2))"
      ],
      "execution_count": 27,
      "outputs": []
    },
    {
      "cell_type": "markdown",
      "metadata": {
        "id": "r5_WrxvYh6E9"
      },
      "source": [
        "Data Test"
      ]
    },
    {
      "cell_type": "code",
      "metadata": {
        "id": "89unL3flgSR9"
      },
      "source": [
        "test_data = scaled_data_test\n",
        "x_test = []\n",
        "y_test = scaled_data_test[day:,:]\n",
        "for i in range(day,len(test_data)):\n",
        "  x_test.append(test_data[i-day:i])\n",
        "\n",
        "\n",
        "x_test = np.array(x_test)\n",
        "x_test = np.reshape(x_test, (x_test.shape[0], x_test.shape[1], 2))"
      ],
      "execution_count": 28,
      "outputs": []
    },
    {
      "cell_type": "markdown",
      "metadata": {
        "id": "R9xQ9c_FiAYW"
      },
      "source": [
        "Model"
      ]
    },
    {
      "cell_type": "code",
      "metadata": {
        "id": "UC4H1d36di4k"
      },
      "source": [
        "model, es, mc = get_model()\n",
        "H = model.fit(x_train, y_train, batch_size=32, epochs=300, validation_data=(x_test,y_test), verbose= 1, callbacks=[es,mc]) #, callbacks=[es,mc]"
      ],
      "execution_count": null,
      "outputs": []
    },
    {
      "cell_type": "code",
      "metadata": {
        "id": "TJncxxVGG55t"
      },
      "source": [
        "plt.figure(figsize=(10,5))\n",
        "plt.subplot(2,1,1)\n",
        "# plt.title('Loss & val-loss')\n",
        "plt.plot(H.history['loss'], label='train_loss')\n",
        "plt.plot(H.history['val_loss'], label='test_loss')\n",
        "plt.legend(loc='best')\n",
        "\n",
        "plt.subplot(2,1,2)\n",
        "# plt.title('Mae & val-mae')\n",
        "plt.plot(H.history['mae'], label='train_mae')\n",
        "plt.plot(H.history['val_mae'], label='test_mae')\n",
        "plt.legend(loc='best')\n",
        "plt.show()"
      ],
      "execution_count": null,
      "outputs": []
    },
    {
      "cell_type": "code",
      "metadata": {
        "id": "2_xpDxYyiZWn"
      },
      "source": [
        "model.summary()"
      ],
      "execution_count": null,
      "outputs": []
    },
    {
      "cell_type": "markdown",
      "metadata": {
        "id": "billwOw_ON5Q"
      },
      "source": [
        "Predict"
      ]
    },
    {
      "cell_type": "code",
      "metadata": {
        "id": "wQcFweMoNuTG"
      },
      "source": [
        "predict_data0 = get_prediction(x_test,data_train,0)"
      ],
      "execution_count": 32,
      "outputs": []
    },
    {
      "cell_type": "markdown",
      "metadata": {
        "id": "Omfdv_uwOdrL"
      },
      "source": [
        "Plot"
      ]
    },
    {
      "cell_type": "code",
      "metadata": {
        "id": "uCOrJUYwOgaE"
      },
      "source": [
        "train = dataset[:train_data_len+day]\n",
        "\n",
        "real0 = get_real(data_test, predict_data0)"
      ],
      "execution_count": 33,
      "outputs": []
    },
    {
      "cell_type": "code",
      "metadata": {
        "id": "4l8YRMS8OrSm"
      },
      "source": [
        "plt.figure(figsize=(10,5))\n",
        "plt.subplot(2,1,1)\n",
        "# plt.xlabel('Date', fontsize=16)\n",
        "plt.ylabel('Price', fontsize=16)\n",
        "plt.plot(train['Price'])\n",
        "plt.plot(real0[['Price','Predictions']])\n",
        "plt.legend(['Train','Real','Prediction'],loc='best')\n",
        "\n",
        "plt.subplot(2,1,2)\n",
        "plt.xlabel('Date', fontsize=16)\n",
        "plt.ylabel('Price', fontsize=16)\n",
        "plt.plot(real0[['Price','Predictions']])\n",
        "plt.legend(['Real','Prediction'],loc='best')\n",
        "plt.show()"
      ],
      "execution_count": null,
      "outputs": []
    },
    {
      "cell_type": "code",
      "metadata": {
        "id": "Aa70nQckoCnx"
      },
      "source": [
        "R = Result(real0)\n",
        "print('Model test: ',R)"
      ],
      "execution_count": null,
      "outputs": []
    },
    {
      "cell_type": "markdown",
      "metadata": {
        "id": "5rqQ1SRiVlUq"
      },
      "source": [
        "Next_day"
      ]
    },
    {
      "cell_type": "code",
      "metadata": {
        "id": "iOE9u1hll_iT"
      },
      "source": [
        "pre = predict_next_day(data_test, data_train, 0)\n",
        "print('Next day:',pre)\n"
      ],
      "execution_count": null,
      "outputs": []
    },
    {
      "cell_type": "markdown",
      "metadata": {
        "id": "L6di4OPqetaj"
      },
      "source": [
        "#Train error"
      ]
    },
    {
      "cell_type": "code",
      "metadata": {
        "id": "eexxsHy0Xq5-"
      },
      "source": [
        "predict = get_prediction(x_train,data_train,0)"
      ],
      "execution_count": 37,
      "outputs": []
    },
    {
      "cell_type": "code",
      "metadata": {
        "id": "FakvUIAMUxGh"
      },
      "source": [
        "real_train = get_real(data_train, predict)"
      ],
      "execution_count": 38,
      "outputs": []
    },
    {
      "cell_type": "code",
      "metadata": {
        "id": "23ggDC06VUV2"
      },
      "source": [
        "R = Result(real_train)\n",
        "print('Model train: ',R)"
      ],
      "execution_count": null,
      "outputs": []
    },
    {
      "cell_type": "code",
      "metadata": {
        "id": "1J51o-59u0rs"
      },
      "source": [
        ""
      ],
      "execution_count": 39,
      "outputs": []
    }
  ]
}